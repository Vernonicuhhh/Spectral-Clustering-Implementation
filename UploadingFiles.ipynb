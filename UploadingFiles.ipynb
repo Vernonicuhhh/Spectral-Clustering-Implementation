{
 "cells": [
  {
   "cell_type": "code",
   "execution_count": 94,
   "id": "24e3a704",
   "metadata": {},
   "outputs": [],
   "source": [
    "##LOAD REQUIRED PKGS\n",
    "using Pkg \n",
    "#Pkg.add(\"CSV\")\n",
    "#Pkg.add(\"DataFrames\")\n",
    "using CSV\n",
    "using DataFrames\n",
    "using LinearAlgebra\n",
    "using SymPy"
   ]
  },
  {
   "cell_type": "code",
   "execution_count": 90,
   "id": "c5f383ae",
   "metadata": {},
   "outputs": [
    {
     "data": {
      "text/html": [
       "<div><div style = \"float: left;\"><span>35324×2 DataFrame</span></div><div style = \"float: right;\"><span style = \"font-style: italic;\">35299 rows omitted</span></div><div style = \"clear: both;\"></div></div><div class = \"data-frame\" style = \"overflow-x: scroll;\"><table class = \"data-frame\" style = \"margin-bottom: 6px;\"><thead><tr class = \"header\"><th class = \"rowNumber\" style = \"font-weight: bold; text-align: right;\">Row</th><th style = \"text-align: left;\">from</th><th style = \"text-align: left;\">to</th></tr><tr class = \"subheader headerLastRow\"><th class = \"rowNumber\" style = \"font-weight: bold; text-align: right;\"></th><th title = \"Int64\" style = \"text-align: left;\">Int64</th><th title = \"Int64\" style = \"text-align: left;\">Int64</th></tr></thead><tbody><tr><td class = \"rowNumber\" style = \"font-weight: bold; text-align: right;\">1</td><td style = \"text-align: right;\">6194</td><td style = \"text-align: right;\">255</td></tr><tr><td class = \"rowNumber\" style = \"font-weight: bold; text-align: right;\">2</td><td style = \"text-align: right;\">6194</td><td style = \"text-align: right;\">980</td></tr><tr><td class = \"rowNumber\" style = \"font-weight: bold; text-align: right;\">3</td><td style = \"text-align: right;\">6194</td><td style = \"text-align: right;\">2992</td></tr><tr><td class = \"rowNumber\" style = \"font-weight: bold; text-align: right;\">4</td><td style = \"text-align: right;\">6194</td><td style = \"text-align: right;\">2507</td></tr><tr><td class = \"rowNumber\" style = \"font-weight: bold; text-align: right;\">5</td><td style = \"text-align: right;\">6194</td><td style = \"text-align: right;\">986</td></tr><tr><td class = \"rowNumber\" style = \"font-weight: bold; text-align: right;\">6</td><td style = \"text-align: right;\">6194</td><td style = \"text-align: right;\">4003</td></tr><tr><td class = \"rowNumber\" style = \"font-weight: bold; text-align: right;\">7</td><td style = \"text-align: right;\">0</td><td style = \"text-align: right;\">82</td></tr><tr><td class = \"rowNumber\" style = \"font-weight: bold; text-align: right;\">8</td><td style = \"text-align: right;\">15</td><td style = \"text-align: right;\">343</td></tr><tr><td class = \"rowNumber\" style = \"font-weight: bold; text-align: right;\">9</td><td style = \"text-align: right;\">15</td><td style = \"text-align: right;\">4282</td></tr><tr><td class = \"rowNumber\" style = \"font-weight: bold; text-align: right;\">10</td><td style = \"text-align: right;\">15</td><td style = \"text-align: right;\">5442</td></tr><tr><td class = \"rowNumber\" style = \"font-weight: bold; text-align: right;\">11</td><td style = \"text-align: right;\">15</td><td style = \"text-align: right;\">1162</td></tr><tr><td class = \"rowNumber\" style = \"font-weight: bold; text-align: right;\">12</td><td style = \"text-align: right;\">15</td><td style = \"text-align: right;\">3401</td></tr><tr><td class = \"rowNumber\" style = \"font-weight: bold; text-align: right;\">13</td><td style = \"text-align: right;\">7106</td><td style = \"text-align: right;\">6211</td></tr><tr><td style = \"text-align: right;\">&vellip;</td><td style = \"text-align: right;\">&vellip;</td><td style = \"text-align: right;\">&vellip;</td></tr><tr><td class = \"rowNumber\" style = \"font-weight: bold; text-align: right;\">35313</td><td style = \"text-align: right;\">6982</td><td style = \"text-align: right;\">5519</td></tr><tr><td class = \"rowNumber\" style = \"font-weight: bold; text-align: right;\">35314</td><td style = \"text-align: right;\">4290</td><td style = \"text-align: right;\">6991</td></tr><tr><td class = \"rowNumber\" style = \"font-weight: bold; text-align: right;\">35315</td><td style = \"text-align: right;\">4136</td><td style = \"text-align: right;\">7069</td></tr><tr><td class = \"rowNumber\" style = \"font-weight: bold; text-align: right;\">35316</td><td style = \"text-align: right;\">7038</td><td style = \"text-align: right;\">7044</td></tr><tr><td class = \"rowNumber\" style = \"font-weight: bold; text-align: right;\">35317</td><td style = \"text-align: right;\">7041</td><td style = \"text-align: right;\">7069</td></tr><tr><td class = \"rowNumber\" style = \"font-weight: bold; text-align: right;\">35318</td><td style = \"text-align: right;\">6922</td><td style = \"text-align: right;\">2674</td></tr><tr><td class = \"rowNumber\" style = \"font-weight: bold; text-align: right;\">35319</td><td style = \"text-align: right;\">6922</td><td style = \"text-align: right;\">7107</td></tr><tr><td class = \"rowNumber\" style = \"font-weight: bold; text-align: right;\">35320</td><td style = \"text-align: right;\">6922</td><td style = \"text-align: right;\">7122</td></tr><tr><td class = \"rowNumber\" style = \"font-weight: bold; text-align: right;\">35321</td><td style = \"text-align: right;\">6562</td><td style = \"text-align: right;\">7089</td></tr><tr><td class = \"rowNumber\" style = \"font-weight: bold; text-align: right;\">35322</td><td style = \"text-align: right;\">7069</td><td style = \"text-align: right;\">7070</td></tr><tr><td class = \"rowNumber\" style = \"font-weight: bold; text-align: right;\">35323</td><td style = \"text-align: right;\">7069</td><td style = \"text-align: right;\">7110</td></tr><tr><td class = \"rowNumber\" style = \"font-weight: bold; text-align: right;\">35324</td><td style = \"text-align: right;\">7075</td><td style = \"text-align: right;\">7109</td></tr></tbody></table></div>"
      ],
      "text/latex": [
       "\\begin{tabular}{r|cc}\n",
       "\t& from & to\\\\\n",
       "\t\\hline\n",
       "\t& Int64 & Int64\\\\\n",
       "\t\\hline\n",
       "\t1 & 6194 & 255 \\\\\n",
       "\t2 & 6194 & 980 \\\\\n",
       "\t3 & 6194 & 2992 \\\\\n",
       "\t4 & 6194 & 2507 \\\\\n",
       "\t5 & 6194 & 986 \\\\\n",
       "\t6 & 6194 & 4003 \\\\\n",
       "\t7 & 0 & 82 \\\\\n",
       "\t8 & 15 & 343 \\\\\n",
       "\t9 & 15 & 4282 \\\\\n",
       "\t10 & 15 & 5442 \\\\\n",
       "\t11 & 15 & 1162 \\\\\n",
       "\t12 & 15 & 3401 \\\\\n",
       "\t13 & 7106 & 6211 \\\\\n",
       "\t14 & 7106 & 6611 \\\\\n",
       "\t15 & 7106 & 1348 \\\\\n",
       "\t16 & 7106 & 2239 \\\\\n",
       "\t17 & 2 & 5842 \\\\\n",
       "\t18 & 3 & 3363 \\\\\n",
       "\t19 & 3 & 1277 \\\\\n",
       "\t20 & 3 & 3739 \\\\\n",
       "\t21 & 3 & 6882 \\\\\n",
       "\t22 & 3 & 4947 \\\\\n",
       "\t23 & 3 & 5740 \\\\\n",
       "\t24 & 3 & 5550 \\\\\n",
       "\t25 & 4 & 4087 \\\\\n",
       "\t26 & 5 & 2481 \\\\\n",
       "\t27 & 5 & 5269 \\\\\n",
       "\t28 & 5 & 1 \\\\\n",
       "\t29 & 5 & 3401 \\\\\n",
       "\t30 & 6 & 6072 \\\\\n",
       "\t$\\dots$ & $\\dots$ & $\\dots$ \\\\\n",
       "\\end{tabular}\n"
      ],
      "text/plain": [
       "\u001b[1m35324×2 DataFrame\u001b[0m\n",
       "\u001b[1m   Row \u001b[0m│\u001b[1m from  \u001b[0m\u001b[1m to    \u001b[0m\n",
       "       │\u001b[90m Int64 \u001b[0m\u001b[90m Int64 \u001b[0m\n",
       "───────┼──────────────\n",
       "     1 │  6194    255\n",
       "     2 │  6194    980\n",
       "     3 │  6194   2992\n",
       "     4 │  6194   2507\n",
       "     5 │  6194    986\n",
       "     6 │  6194   4003\n",
       "     7 │     0     82\n",
       "     8 │    15    343\n",
       "     9 │    15   4282\n",
       "    10 │    15   5442\n",
       "    11 │    15   1162\n",
       "   ⋮   │   ⋮      ⋮\n",
       " 35315 │  4136   7069\n",
       " 35316 │  7038   7044\n",
       " 35317 │  7041   7069\n",
       " 35318 │  6922   2674\n",
       " 35319 │  6922   7107\n",
       " 35320 │  6922   7122\n",
       " 35321 │  6562   7089\n",
       " 35322 │  7069   7070\n",
       " 35323 │  7069   7110\n",
       " 35324 │  7075   7109\n",
       "\u001b[36m    35303 rows omitted\u001b[0m"
      ]
     },
     "execution_count": 90,
     "metadata": {},
     "output_type": "execute_result"
    }
   ],
   "source": [
    "df = CSV.read(\"/Users/elizabethterveen/Downloads/twitch/ENGB/musae_ENGB_edges.csv\",DataFrame)\n",
    "##NOTE: need to re-add ids to this data so that a) they're continuous b) they. match the target csv file so we can get info about nodes\n"
   ]
  },
  {
   "cell_type": "code",
   "execution_count": null,
   "id": "892e758a",
   "metadata": {},
   "outputs": [],
   "source": []
  },
  {
   "cell_type": "code",
   "execution_count": 92,
   "id": "7a4af206",
   "metadata": {},
   "outputs": [
    {
     "data": {
      "text/plain": [
       "get_adjacency_social_network (generic function with 1 method)"
      ]
     },
     "execution_count": 92,
     "metadata": {},
     "output_type": "execute_result"
    }
   ],
   "source": [
    "##get the adjacency matrix for a social network datasets (entries are 1s and 0s)\n",
    "function get_adjacency_social_network(social_network_df)\n",
    "    nrow = length(unique(df[:,1]))\n",
    "    A = zeros(nrow,nrow)\n",
    "    for i in 1:nrow\n",
    "        from = df[i,1]\n",
    "        to = df[i,2]\n",
    "        A[from+1,to+1] = 1\n",
    "    end\n",
    "    return A\n",
    "end"
   ]
  },
  {
   "cell_type": "code",
   "execution_count": 64,
   "id": "f417fb03",
   "metadata": {},
   "outputs": [
    {
     "data": {
      "text/plain": [
       "get_adjacency_social_network (generic function with 1 method)"
      ]
     },
     "execution_count": 64,
     "metadata": {},
     "output_type": "execute_result"
    }
   ],
   "source": [
    "##calculate degree,applicable to any adjacency matrix         \n",
    "function get_degree(adj_mtrx)\n",
    "    nrows,ncols = size(adj_mtrx)\n",
    "    D = zeros(nrows,nrows)\n",
    "    for r in 1:nrows\n",
    "        D[r,r] = sum(adj_mtrx[r,:])\n",
    "    end\n",
    "    return D\n",
    "end"
   ]
  },
  {
   "cell_type": "code",
   "execution_count": 71,
   "id": "fe7b5ca6",
   "metadata": {},
   "outputs": [
    {
     "data": {
      "text/plain": [
       "get_laplacian (generic function with 1 method)"
      ]
     },
     "execution_count": 71,
     "metadata": {},
     "output_type": "execute_result"
    }
   ],
   "source": [
    "##calcluate laplacian graph\n",
    "function get_laplacian(adj_mtrx)\n",
    "    degree_mtrx = get_degree(adj_mtrx)\n",
    "    return degree_mtrx-adj_mtrx\n",
    "end"
   ]
  },
  {
   "cell_type": "code",
   "execution_count": 76,
   "id": "beb4a1cc",
   "metadata": {},
   "outputs": [
    {
     "data": {
      "text/plain": [
       "get_laplacian_norm (generic function with 1 method)"
      ]
     },
     "execution_count": 76,
     "metadata": {},
     "output_type": "execute_result"
    }
   ],
   "source": [
    "#calculate normalized lapalacian\n",
    "function neg_sqrt_D(D)\n",
    "    n = size(D,1)\n",
    "    sqrt_d = zeros(n,n)\n",
    "    for r in 1:n\n",
    "        sqrt_d[r,r] = 1/sqrt(D[r,r])\n",
    "    end\n",
    "    return sqrt_d\n",
    "end\n",
    "        \n",
    "function get_laplacian_norm(adj_mtrx)\n",
    "    degree_mtrx = get_degree(adj_mtrx)\n",
    "    D2 = neg_sqrt_D(degree_mtrx)\n",
    "    return D2*adj_mtrx*D2\n",
    "end\n",
    "\n"
   ]
  },
  {
   "cell_type": "code",
   "execution_count": 99,
   "id": "3a35cdfb",
   "metadata": {},
   "outputs": [
    {
     "data": {
      "text/plain": [
       "get_num_connected_components (generic function with 1 method)"
      ]
     },
     "execution_count": 99,
     "metadata": {},
     "output_type": "execute_result"
    }
   ],
   "source": [
    "#calculate multiplicity of 0 eigenvalue (the multiplicity of the 0 eigenvalue in L)\n",
    "function get_num_connected_components(L)\n",
    "    ##doesn't matter if we use normalized or un-normalized laplacian\n",
    "    evals_dict = Sym(L).eigenvalues()\n",
    "    return evals_dict[0]\n",
    "end\n",
    "    "
   ]
  },
  {
   "cell_type": "code",
   "execution_count": 100,
   "id": "19c487f7",
   "metadata": {},
   "outputs": [
    {
     "data": {
      "text/plain": [
       "get_U (generic function with 1 method)"
      ]
     },
     "execution_count": 100,
     "metadata": {},
     "output_type": "execute_result"
    }
   ],
   "source": [
    "#return a matrix with columns containing the eigenvectors of the laplacian\n",
    "function get_U(L)\n",
    "    return Matrix(Sym(L).eigvecs)\n",
    "end"
   ]
  },
  {
   "cell_type": "code",
   "execution_count": null,
   "id": "de6d2002",
   "metadata": {},
   "outputs": [],
   "source": []
  },
  {
   "cell_type": "code",
   "execution_count": null,
   "id": "be41d40b",
   "metadata": {},
   "outputs": [],
   "source": []
  },
  {
   "cell_type": "code",
   "execution_count": null,
   "id": "f91fa348",
   "metadata": {},
   "outputs": [],
   "source": []
  },
  {
   "cell_type": "code",
   "execution_count": null,
   "id": "3f05eb84",
   "metadata": {},
   "outputs": [],
   "source": []
  },
  {
   "cell_type": "code",
   "execution_count": null,
   "id": "c9372cc7",
   "metadata": {},
   "outputs": [],
   "source": []
  },
  {
   "cell_type": "code",
   "execution_count": null,
   "id": "9bf6d1d4",
   "metadata": {},
   "outputs": [],
   "source": []
  },
  {
   "cell_type": "code",
   "execution_count": null,
   "id": "aa03cd96",
   "metadata": {},
   "outputs": [],
   "source": []
  },
  {
   "cell_type": "code",
   "execution_count": null,
   "id": "d99cc02d",
   "metadata": {},
   "outputs": [],
   "source": []
  },
  {
   "cell_type": "code",
   "execution_count": null,
   "id": "66c86da8",
   "metadata": {},
   "outputs": [],
   "source": [
    "\n"
   ]
  },
  {
   "cell_type": "code",
   "execution_count": null,
   "id": "f1a4d1d3",
   "metadata": {},
   "outputs": [],
   "source": []
  },
  {
   "cell_type": "code",
   "execution_count": null,
   "id": "e2af12d4",
   "metadata": {},
   "outputs": [],
   "source": []
  },
  {
   "cell_type": "code",
   "execution_count": null,
   "id": "5f4b50fe",
   "metadata": {},
   "outputs": [],
   "source": []
  },
  {
   "cell_type": "code",
   "execution_count": null,
   "id": "073ebc86",
   "metadata": {},
   "outputs": [],
   "source": []
  }
 ],
 "metadata": {
  "kernelspec": {
   "display_name": "Julia 1.9.2",
   "language": "julia",
   "name": "julia-1.9"
  },
  "language_info": {
   "file_extension": ".jl",
   "mimetype": "application/julia",
   "name": "julia",
   "version": "1.9.2"
  }
 },
 "nbformat": 4,
 "nbformat_minor": 5
}
