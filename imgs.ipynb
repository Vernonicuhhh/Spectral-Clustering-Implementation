{
 "cells": [
  {
   "cell_type": "code",
   "execution_count": 1,
   "metadata": {},
   "outputs": [],
   "source": [
    "import pandas as pd\n",
    "import cv2 as cv\n",
    "import math\n",
    "import numpy as np \n",
    "import adjmtrx_io\n"
   ]
  },
  {
   "cell_type": "code",
   "execution_count": 3,
   "metadata": {},
   "outputs": [],
   "source": [
    "img = cv.imread(\"./images/testimg.jpeg\")"
   ]
  },
  {
   "cell_type": "code",
   "execution_count": 4,
   "metadata": {},
   "outputs": [],
   "source": [
    "gray_img = cv.cvtColor(img, cv.COLOR_BGR2GRAY) "
   ]
  },
  {
   "cell_type": "code",
   "execution_count": 5,
   "metadata": {},
   "outputs": [
    {
     "name": "stderr",
     "output_type": "stream",
     "text": [
      "/var/folders/4j/qzg2kvtj7qg6pp3nbyhr772c0000gn/T/ipykernel_1248/4153791463.py:2: RuntimeWarning: overflow encountered in scalar subtract\n",
      "  return math.exp((-a)*(i1-i2)^2)\n"
     ]
    }
   ],
   "source": [
    "\n",
    "def sim_exp(a,i1,i2):\n",
    "    return math.exp((-a)*(i1-i2)^2)\n",
    "\n",
    "def get_1d_ind(r,c,width):\n",
    "    return r*width + c\n",
    "\n",
    "\n",
    "\n",
    "def get_adjacency_image(raw_img):\n",
    "    rows,cols = raw_img.shape\n",
    "    adj_mtrx = np.zeros((rows*cols,rows*cols))\n",
    "    s = rows*cols\n",
    "    computed = set()\n",
    "    for curr_r in range(rows):\n",
    "        for curr_c in range(cols):\n",
    "            pix = get_1d_ind(curr_r,curr_c,cols)\n",
    "            if not pix in computed:\n",
    "                ##go to right as far as possible\n",
    "                nrp = pix +1 #\"neighbouring right pixel\"\n",
    "                offset = 1\n",
    "                while (nrp < s) and (curr_c+offset < cols) and abs(nrp-pix) < 9: \n",
    "                    sim = sim_exp(30,raw_img[curr_r,curr_c],raw_img[curr_r,curr_c+offset])\n",
    "                    adj_mtrx[nrp,pix] = sim #similarity between nrp and current pixel\n",
    "                    adj_mtrx[pix,nrp] = sim #weighting from pix to  nrp is symmetric\n",
    "                    computed.add(nrp)\n",
    "                    nrp+=1\n",
    "                    offset+=1\n",
    "\n",
    "                ##go to left as far as possible\n",
    "                nlp = pix-1 #\"neighbouring left pixel\"\n",
    "                offset = 1\n",
    "                while (nlp >= 0) and (curr_c-offset > 0) and (abs(nlp-pix) < 9):\n",
    "                    sim = sim_exp(30,raw_img[curr_r,curr_c],raw_img[curr_r,curr_c-offset])\n",
    "                    adj_mtrx[nlp,pix] = sim #similarity between nrp and current pixel\n",
    "                    adj_mtrx[pix,nlp] = sim #weighting from pix to  nrp is symmetric\n",
    "                    computed.add(nlp)\n",
    "                    nlp-=1\n",
    "                    offset+=1\n",
    "\n",
    "                ##go up as far as possible\n",
    "                nup = get_1d_ind(curr_r-1,curr_c,cols) #\"neighbouring upper pixel\"\n",
    "                offset = 1\n",
    "                while (nup >= 0) and (abs(nup-pix) < 9):\n",
    "                    sim = sim_exp(30,raw_img[curr_r,curr_c],raw_img[curr_r-offset,curr_c])\n",
    "                    adj_mtrx[nup,pix] = sim #similarity between nrp and current pixel\n",
    "                    adj_mtrx[pix,nup] = sim #weighting from pix to  nrp is symmetric\n",
    "                    computed.add(nup)\n",
    "                    offset+=1\n",
    "                    nup = get_1d_ind(curr_r-offset,curr_c,width)\n",
    "\n",
    "                ##go down as far as possible \n",
    "                nbp = get_1d_ind(curr_r+1,curr_c,cols) #\"neighbouring belwo pixel\"\n",
    "                offset = 1\n",
    "                while (nbp < s) and (abs(nbp-pix) < 9):\n",
    "                    sim = sim_exp(30,raw_img[curr_r,curr_c],raw_img[curr_r+offset,curr_c])\n",
    "                    adj_mtrx[nbp,pix] = sim #similarity between nrp and current pixel\n",
    "                    adj_mtrx[pix,nbp] = sim #weighting from pix to  nrp is symmetric\n",
    "                    computed.add(nbp)\n",
    "                    offset+=1\n",
    "                    nbp = get_1d_ind(curr_r+offset,curr_c,cols)\n",
    "\n",
    "                computed.add(pix)\n",
    "    return adj_mtrx\n",
    "A = get_adjacency_image(gray_img)\n"
   ]
  }
 ],
 "metadata": {
  "kernelspec": {
   "display_name": "Python 3",
   "language": "python",
   "name": "python3"
  },
  "language_info": {
   "codemirror_mode": {
    "name": "ipython",
    "version": 3
   },
   "file_extension": ".py",
   "mimetype": "text/x-python",
   "name": "python",
   "nbconvert_exporter": "python",
   "pygments_lexer": "ipython3",
   "version": "3.10.9"
  }
 },
 "nbformat": 4,
 "nbformat_minor": 2
}
